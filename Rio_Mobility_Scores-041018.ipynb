{
 "cells": [
  {
   "cell_type": "code",
   "execution_count": 1,
   "metadata": {
    "collapsed": true
   },
   "outputs": [],
   "source": [
    "import pandas as pd\n",
    "import numpy as np\n",
    "import matplotlib\n",
    "import matplotlib.pyplot as plt\n",
    "\n",
    "# for pretty plotting\n",
    "import seaborn as sns\n",
    "sns.set_style(\"whitegrid\")\n",
    "\n",
    "%matplotlib inline"
   ]
  },
  {
   "cell_type": "code",
   "execution_count": 64,
   "metadata": {
    "collapsed": true
   },
   "outputs": [],
   "source": [
    "rio = pd.read_csv('mobility_rio_final.csv')"
   ]
  },
  {
   "cell_type": "code",
   "execution_count": 65,
   "metadata": {},
   "outputs": [
    {
     "data": {
      "text/html": [
       "<div>\n",
       "<style>\n",
       "    .dataframe thead tr:only-child th {\n",
       "        text-align: right;\n",
       "    }\n",
       "\n",
       "    .dataframe thead th {\n",
       "        text-align: left;\n",
       "    }\n",
       "\n",
       "    .dataframe tbody tr th {\n",
       "        vertical-align: top;\n",
       "    }\n",
       "</style>\n",
       "<table border=\"1\" class=\"dataframe\">\n",
       "  <thead>\n",
       "    <tr style=\"text-align: right;\">\n",
       "      <th></th>\n",
       "      <th>cod_sector_start</th>\n",
       "      <th>Cod_bairro</th>\n",
       "      <th>type</th>\n",
       "      <th>group</th>\n",
       "      <th>Nome_do_bairro</th>\n",
       "      <th>travel_time_am</th>\n",
       "      <th>walk_time</th>\n",
       "      <th>mode_switches</th>\n",
       "      <th>price</th>\n",
       "      <th>avg_income</th>\n",
       "      <th>tot_residents</th>\n",
       "    </tr>\n",
       "  </thead>\n",
       "  <tbody>\n",
       "    <tr>\n",
       "      <th>0</th>\n",
       "      <td>330455705380001</td>\n",
       "      <td>3304557084</td>\n",
       "      <td>favela</td>\n",
       "      <td>a</td>\n",
       "      <td>Cidade de Deus</td>\n",
       "      <td>106</td>\n",
       "      <td>4</td>\n",
       "      <td>3</td>\n",
       "      <td>15.0</td>\n",
       "      <td>532.60</td>\n",
       "      <td>36515</td>\n",
       "    </tr>\n",
       "    <tr>\n",
       "      <th>1</th>\n",
       "      <td>330455705210174</td>\n",
       "      <td>3304557089</td>\n",
       "      <td>formal</td>\n",
       "      <td>a</td>\n",
       "      <td>Tanque</td>\n",
       "      <td>66</td>\n",
       "      <td>4</td>\n",
       "      <td>2</td>\n",
       "      <td>7.9</td>\n",
       "      <td>934.48</td>\n",
       "      <td>31163</td>\n",
       "    </tr>\n",
       "    <tr>\n",
       "      <th>2</th>\n",
       "      <td>330060530000001</td>\n",
       "      <td>330060530</td>\n",
       "      <td>favela</td>\n",
       "      <td>b</td>\n",
       "      <td>SERRINHA</td>\n",
       "      <td>70</td>\n",
       "      <td>13</td>\n",
       "      <td>2</td>\n",
       "      <td>7.2</td>\n",
       "      <td>386.84</td>\n",
       "      <td>503</td>\n",
       "    </tr>\n",
       "    <tr>\n",
       "      <th>3</th>\n",
       "      <td>330455705200085</td>\n",
       "      <td>3304557072</td>\n",
       "      <td>formal</td>\n",
       "      <td>b</td>\n",
       "      <td>Cascadura</td>\n",
       "      <td>54</td>\n",
       "      <td>2</td>\n",
       "      <td>1</td>\n",
       "      <td>3.6</td>\n",
       "      <td>904.23</td>\n",
       "      <td>32024</td>\n",
       "    </tr>\n",
       "    <tr>\n",
       "      <th>4</th>\n",
       "      <td>330455705110286</td>\n",
       "      <td>3304557024</td>\n",
       "      <td>favela</td>\n",
       "      <td>c</td>\n",
       "      <td>Vidigal</td>\n",
       "      <td>68</td>\n",
       "      <td>9</td>\n",
       "      <td>2</td>\n",
       "      <td>7.9</td>\n",
       "      <td>691.59</td>\n",
       "      <td>10464</td>\n",
       "    </tr>\n",
       "  </tbody>\n",
       "</table>\n",
       "</div>"
      ],
      "text/plain": [
       "   cod_sector_start  Cod_bairro    type group  Nome_do_bairro  travel_time_am  \\\n",
       "0   330455705380001  3304557084  favela     a  Cidade de Deus             106   \n",
       "1   330455705210174  3304557089  formal     a          Tanque              66   \n",
       "2   330060530000001   330060530  favela     b        SERRINHA              70   \n",
       "3   330455705200085  3304557072  formal     b       Cascadura              54   \n",
       "4   330455705110286  3304557024  favela     c         Vidigal              68   \n",
       "\n",
       "   walk_time  mode_switches  price  avg_income  tot_residents  \n",
       "0          4              3   15.0      532.60          36515  \n",
       "1          4              2    7.9      934.48          31163  \n",
       "2         13              2    7.2      386.84            503  \n",
       "3          2              1    3.6      904.23          32024  \n",
       "4          9              2    7.9      691.59          10464  "
      ]
     },
     "execution_count": 65,
     "metadata": {},
     "output_type": "execute_result"
    }
   ],
   "source": [
    "rio.head()"
   ]
  },
  {
   "cell_type": "code",
   "execution_count": 66,
   "metadata": {},
   "outputs": [
    {
     "data": {
      "text/plain": [
       "Index(['cod_sector_start', 'Cod_bairro', 'type', 'group', 'Nome_do_bairro',\n",
       "       'travel_time_am', 'walk_time', 'mode_switches', 'price', 'avg_income',\n",
       "       'tot_residents'],\n",
       "      dtype='object')"
      ]
     },
     "execution_count": 66,
     "metadata": {},
     "output_type": "execute_result"
    }
   ],
   "source": [
    "# create new columns for mobility score factors\n",
    "rio.columns"
   ]
  },
  {
   "cell_type": "code",
   "execution_count": 67,
   "metadata": {
    "collapsed": true
   },
   "outputs": [],
   "source": [
    "# create % walk time\n",
    "rio['walk_per'] = rio['walk_time']/rio['travel_time_am']\n",
    "\n",
    "# create weekly cost (5 rides) \n",
    "rio['wkly_cost_am'] = rio['price']*5\n",
    "\n",
    "# create % income for 5 rides\n",
    "rio['income_per'] = rio['wkly_cost_am']/rio['avg_income']\n",
    "\n",
    "# creating mobility score (raw)\n",
    "rio['mobility_score'] = rio['travel_time_am']*rio['income_per']+rio['walk_per']\n"
   ]
  },
  {
   "cell_type": "code",
   "execution_count": 68,
   "metadata": {},
   "outputs": [
    {
     "data": {
      "text/html": [
       "<div>\n",
       "<style>\n",
       "    .dataframe thead tr:only-child th {\n",
       "        text-align: right;\n",
       "    }\n",
       "\n",
       "    .dataframe thead th {\n",
       "        text-align: left;\n",
       "    }\n",
       "\n",
       "    .dataframe tbody tr th {\n",
       "        vertical-align: top;\n",
       "    }\n",
       "</style>\n",
       "<table border=\"1\" class=\"dataframe\">\n",
       "  <thead>\n",
       "    <tr style=\"text-align: right;\">\n",
       "      <th></th>\n",
       "      <th>cod_sector_start</th>\n",
       "      <th>Cod_bairro</th>\n",
       "      <th>type</th>\n",
       "      <th>group</th>\n",
       "      <th>Nome_do_bairro</th>\n",
       "      <th>travel_time_am</th>\n",
       "      <th>walk_time</th>\n",
       "      <th>mode_switches</th>\n",
       "      <th>price</th>\n",
       "      <th>avg_income</th>\n",
       "      <th>tot_residents</th>\n",
       "      <th>walk_per</th>\n",
       "      <th>wkly_cost_am</th>\n",
       "      <th>income_per</th>\n",
       "      <th>mobility_score</th>\n",
       "    </tr>\n",
       "  </thead>\n",
       "  <tbody>\n",
       "    <tr>\n",
       "      <th>0</th>\n",
       "      <td>330455705380001</td>\n",
       "      <td>3304557084</td>\n",
       "      <td>favela</td>\n",
       "      <td>a</td>\n",
       "      <td>Cidade de Deus</td>\n",
       "      <td>106</td>\n",
       "      <td>4</td>\n",
       "      <td>3</td>\n",
       "      <td>15.0</td>\n",
       "      <td>532.60</td>\n",
       "      <td>36515</td>\n",
       "      <td>0.037736</td>\n",
       "      <td>75.0</td>\n",
       "      <td>0.140819</td>\n",
       "      <td>14.964510</td>\n",
       "    </tr>\n",
       "    <tr>\n",
       "      <th>1</th>\n",
       "      <td>330455705210174</td>\n",
       "      <td>3304557089</td>\n",
       "      <td>formal</td>\n",
       "      <td>a</td>\n",
       "      <td>Tanque</td>\n",
       "      <td>66</td>\n",
       "      <td>4</td>\n",
       "      <td>2</td>\n",
       "      <td>7.9</td>\n",
       "      <td>934.48</td>\n",
       "      <td>31163</td>\n",
       "      <td>0.060606</td>\n",
       "      <td>39.5</td>\n",
       "      <td>0.042269</td>\n",
       "      <td>2.850393</td>\n",
       "    </tr>\n",
       "    <tr>\n",
       "      <th>2</th>\n",
       "      <td>330060530000001</td>\n",
       "      <td>330060530</td>\n",
       "      <td>favela</td>\n",
       "      <td>b</td>\n",
       "      <td>SERRINHA</td>\n",
       "      <td>70</td>\n",
       "      <td>13</td>\n",
       "      <td>2</td>\n",
       "      <td>7.2</td>\n",
       "      <td>386.84</td>\n",
       "      <td>503</td>\n",
       "      <td>0.185714</td>\n",
       "      <td>36.0</td>\n",
       "      <td>0.093062</td>\n",
       "      <td>6.700035</td>\n",
       "    </tr>\n",
       "    <tr>\n",
       "      <th>3</th>\n",
       "      <td>330455705200085</td>\n",
       "      <td>3304557072</td>\n",
       "      <td>formal</td>\n",
       "      <td>b</td>\n",
       "      <td>Cascadura</td>\n",
       "      <td>54</td>\n",
       "      <td>2</td>\n",
       "      <td>1</td>\n",
       "      <td>3.6</td>\n",
       "      <td>904.23</td>\n",
       "      <td>32024</td>\n",
       "      <td>0.037037</td>\n",
       "      <td>18.0</td>\n",
       "      <td>0.019906</td>\n",
       "      <td>1.111985</td>\n",
       "    </tr>\n",
       "    <tr>\n",
       "      <th>4</th>\n",
       "      <td>330455705110286</td>\n",
       "      <td>3304557024</td>\n",
       "      <td>favela</td>\n",
       "      <td>c</td>\n",
       "      <td>Vidigal</td>\n",
       "      <td>68</td>\n",
       "      <td>9</td>\n",
       "      <td>2</td>\n",
       "      <td>7.9</td>\n",
       "      <td>691.59</td>\n",
       "      <td>10464</td>\n",
       "      <td>0.132353</td>\n",
       "      <td>39.5</td>\n",
       "      <td>0.057115</td>\n",
       "      <td>4.016157</td>\n",
       "    </tr>\n",
       "  </tbody>\n",
       "</table>\n",
       "</div>"
      ],
      "text/plain": [
       "   cod_sector_start  Cod_bairro    type group  Nome_do_bairro  travel_time_am  \\\n",
       "0   330455705380001  3304557084  favela     a  Cidade de Deus             106   \n",
       "1   330455705210174  3304557089  formal     a          Tanque              66   \n",
       "2   330060530000001   330060530  favela     b        SERRINHA              70   \n",
       "3   330455705200085  3304557072  formal     b       Cascadura              54   \n",
       "4   330455705110286  3304557024  favela     c         Vidigal              68   \n",
       "\n",
       "   walk_time  mode_switches  price  avg_income  tot_residents  walk_per  \\\n",
       "0          4              3   15.0      532.60          36515  0.037736   \n",
       "1          4              2    7.9      934.48          31163  0.060606   \n",
       "2         13              2    7.2      386.84            503  0.185714   \n",
       "3          2              1    3.6      904.23          32024  0.037037   \n",
       "4          9              2    7.9      691.59          10464  0.132353   \n",
       "\n",
       "   wkly_cost_am  income_per  mobility_score  \n",
       "0          75.0    0.140819       14.964510  \n",
       "1          39.5    0.042269        2.850393  \n",
       "2          36.0    0.093062        6.700035  \n",
       "3          18.0    0.019906        1.111985  \n",
       "4          39.5    0.057115        4.016157  "
      ]
     },
     "execution_count": 68,
     "metadata": {},
     "output_type": "execute_result"
    }
   ],
   "source": [
    "rio.head()"
   ]
  },
  {
   "cell_type": "code",
   "execution_count": 69,
   "metadata": {},
   "outputs": [],
   "source": [
    "# finding averages for normalizing data within these neighborhood pairs\n",
    "avg_walk_per = rio.walk_per.mean()\n",
    "avg_travel_time_am = rio.travel_time_am.mean()\n",
    "avg_income_per = rio.income_per.mean()\n",
    "\n",
    "norm_key = avg_travel_time_am*avg_income_per+avg_walk_per"
   ]
  },
  {
   "cell_type": "code",
   "execution_count": 70,
   "metadata": {},
   "outputs": [],
   "source": [
    "rio['mobility_score_norm'] = rio['mobility_score']/norm_key"
   ]
  },
  {
   "cell_type": "code",
   "execution_count": 74,
   "metadata": {},
   "outputs": [],
   "source": [
    "mobility_by_city = rio [['Nome_do_bairro', 'mobility_score_norm', 'type', 'group']]"
   ]
  },
  {
   "cell_type": "code",
   "execution_count": 75,
   "metadata": {},
   "outputs": [
    {
     "data": {
      "text/html": [
       "<div>\n",
       "<style>\n",
       "    .dataframe thead tr:only-child th {\n",
       "        text-align: right;\n",
       "    }\n",
       "\n",
       "    .dataframe thead th {\n",
       "        text-align: left;\n",
       "    }\n",
       "\n",
       "    .dataframe tbody tr th {\n",
       "        vertical-align: top;\n",
       "    }\n",
       "</style>\n",
       "<table border=\"1\" class=\"dataframe\">\n",
       "  <thead>\n",
       "    <tr style=\"text-align: right;\">\n",
       "      <th></th>\n",
       "      <th>Nome_do_bairro</th>\n",
       "      <th>mobility_score_norm</th>\n",
       "      <th>type</th>\n",
       "      <th>group</th>\n",
       "    </tr>\n",
       "  </thead>\n",
       "  <tbody>\n",
       "    <tr>\n",
       "      <th>0</th>\n",
       "      <td>Cidade de Deus</td>\n",
       "      <td>4.605414</td>\n",
       "      <td>favela</td>\n",
       "      <td>a</td>\n",
       "    </tr>\n",
       "    <tr>\n",
       "      <th>1</th>\n",
       "      <td>Tanque</td>\n",
       "      <td>0.877225</td>\n",
       "      <td>formal</td>\n",
       "      <td>a</td>\n",
       "    </tr>\n",
       "    <tr>\n",
       "      <th>2</th>\n",
       "      <td>SERRINHA</td>\n",
       "      <td>2.061974</td>\n",
       "      <td>favela</td>\n",
       "      <td>b</td>\n",
       "    </tr>\n",
       "    <tr>\n",
       "      <th>3</th>\n",
       "      <td>Cascadura</td>\n",
       "      <td>0.342220</td>\n",
       "      <td>formal</td>\n",
       "      <td>b</td>\n",
       "    </tr>\n",
       "    <tr>\n",
       "      <th>4</th>\n",
       "      <td>Vidigal</td>\n",
       "      <td>1.235995</td>\n",
       "      <td>favela</td>\n",
       "      <td>c</td>\n",
       "    </tr>\n",
       "    <tr>\n",
       "      <th>5</th>\n",
       "      <td>Leblon</td>\n",
       "      <td>0.052539</td>\n",
       "      <td>formal</td>\n",
       "      <td>c</td>\n",
       "    </tr>\n",
       "    <tr>\n",
       "      <th>6</th>\n",
       "      <td>Rocinha</td>\n",
       "      <td>0.542543</td>\n",
       "      <td>favela</td>\n",
       "      <td>d</td>\n",
       "    </tr>\n",
       "    <tr>\n",
       "      <th>7</th>\n",
       "      <td>Gávea</td>\n",
       "      <td>0.185229</td>\n",
       "      <td>formal</td>\n",
       "      <td>d</td>\n",
       "    </tr>\n",
       "  </tbody>\n",
       "</table>\n",
       "</div>"
      ],
      "text/plain": [
       "   Nome_do_bairro  mobility_score_norm    type group\n",
       "0  Cidade de Deus             4.605414  favela     a\n",
       "1          Tanque             0.877225  formal     a\n",
       "2        SERRINHA             2.061974  favela     b\n",
       "3       Cascadura             0.342220  formal     b\n",
       "4         Vidigal             1.235995  favela     c\n",
       "5          Leblon             0.052539  formal     c\n",
       "6         Rocinha             0.542543  favela     d\n",
       "7           Gávea             0.185229  formal     d"
      ]
     },
     "execution_count": 75,
     "metadata": {},
     "output_type": "execute_result"
    }
   ],
   "source": [
    "mobility_by_city"
   ]
  },
  {
   "cell_type": "code",
   "execution_count": 90,
   "metadata": {},
   "outputs": [
    {
     "data": {
      "text/plain": [
       "Text(0.5,1,'Mobility Scores for Neighborhood Pairs')"
      ]
     },
     "execution_count": 90,
     "metadata": {},
     "output_type": "execute_result"
    },
    {
     "data": {
      "image/png": "[encoded data removed]",
      "text/plain": [
       "<matplotlib.figure.Figure at 0x1a132db5f8>"
      ]
     },
     "metadata": {},
     "output_type": "display_data"
    }
   ],
   "source": [
    "# source: https://seaborn.pydata.org/generated/seaborn.barplot.html\n",
    "from matplotlib import pyplot\n",
    "\n",
    "fig, ax = pyplot.subplots(figsize=(11,8))\n",
    "ax = sns.barplot(x=\"group\", y=\"mobility_score_norm\", hue=\"type\", data=mobility_by_city)\n",
    "\n",
    "plt.title('Mobility Scores for Neighborhood Pairs' ,fontsize=20)"
   ]
  },
  {
   "cell_type": "code",
   "execution_count": null,
   "metadata": {
    "collapsed": true
   },
   "outputs": [],
   "source": [
    "# ratio pairs - biggest difference \n",
    "- why might this be? "
   ]
  }
 ],
 "metadata": {
  "kernelspec": {
   "display_name": "Python 3",
   "language": "python",
   "name": "python3"
  },
  "language_info": {
   "codemirror_mode": {
    "name": "ipython",
    "version": 3
   },
   "file_extension": ".py",
   "mimetype": "text/x-python",
   "name": "python",
   "nbconvert_exporter": "python",
   "pygments_lexer": "ipython3",
   "version": "3.6.3"
  }
 },
 "nbformat": 4,
 "nbformat_minor": 2
}
